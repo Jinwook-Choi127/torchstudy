{
 "cells": [
  {
   "cell_type": "markdown",
   "metadata": {},
   "source": [
    "# CNN for sentence classification\n",
    "- [Reference code](https://github.com/bentrevett/pytorch-sentiment-analysis/blob/master/4%20-%20Convolutional%20Sentiment%20Analysis.ipynb) by bentrevett\n",
    "- Dataset [download](https://github.com/yoonkim/CNN_sentence)"
   ]
  },
  {
   "cell_type": "code",
   "execution_count": 1,
   "metadata": {
    "ExecuteTime": {
     "end_time": "2021-01-19T01:10:53.955107Z",
     "start_time": "2021-01-19T01:10:52.601196Z"
    }
   },
   "outputs": [],
   "source": [
    "import os\n",
    "import pandas as pd\n",
    "import numpy as np\n",
    "import random\n",
    "import torch"
   ]
  },
  {
   "cell_type": "code",
   "execution_count": 2,
   "metadata": {
    "ExecuteTime": {
     "end_time": "2021-01-19T01:10:55.072912Z",
     "start_time": "2021-01-19T01:10:55.055862Z"
    }
   },
   "outputs": [],
   "source": [
    "def set_seed(seed= 1234):\n",
    "    random.seed(seed)\n",
    "    os.environ['PYTHONHASHSEED'] = str(seed)\n",
    "    np.random.seed(seed)\n",
    "    torch.manual_seed(seed)\n",
    "    torch.cuda.manual_seed(seed)\n",
    "    torch.backends.cudnn.deterministic = True"
   ]
  },
  {
   "cell_type": "markdown",
   "metadata": {},
   "source": [
    "## Data preparation"
   ]
  },
  {
   "cell_type": "markdown",
   "metadata": {},
   "source": [
    "### Data load"
   ]
  },
  {
   "cell_type": "code",
   "execution_count": 3,
   "metadata": {
    "ExecuteTime": {
     "end_time": "2021-01-19T01:11:05.131671Z",
     "start_time": "2021-01-19T01:11:05.119730Z"
    }
   },
   "outputs": [],
   "source": [
    "# 데이터 준비 함수 (None -> df)\n",
    "def load_data():\n",
    "    neg_path = r\"D:\\SIMON\\대학원\\9_스터디\\2021_pytorch_study\\1월_CNN\\1_reference_code\\rt-polarity.neg.txt\"\n",
    "    neg_df = pd.read_table(neg_path, header=None, names=['X'], encoding='latin') #'ISO-8859-1' 의 alias\n",
    "    neg_df['y'] = [0] * len(neg_df)\n",
    "\n",
    "    pos_path = r\"D:\\SIMON\\대학원\\9_스터디\\2021_pytorch_study\\1월_CNN\\1_reference_code\\rt-polarity.pos.txt\"\n",
    "    pos_df = pd.read_table(pos_path, header=None, names=['X'], encoding='latin') #'ISO-8859-1' 의 alias\n",
    "    pos_df['y'] = [1] * len(pos_df)\n",
    "\n",
    "    data = pd.concat([neg_df, pos_df], axis=0)\n",
    "    data.reset_index(inplace=True)\n",
    "    print(\"# of Loaded Data: {}\".format(data.shape[0]))\n",
    "    \n",
    "    return data"
   ]
  },
  {
   "cell_type": "code",
   "execution_count": 4,
   "metadata": {
    "ExecuteTime": {
     "end_time": "2021-01-19T01:11:06.772112Z",
     "start_time": "2021-01-19T01:11:06.192086Z"
    }
   },
   "outputs": [
    {
     "name": "stdout",
     "output_type": "stream",
     "text": [
      "# of Loaded Data: 10662\n"
     ]
    }
   ],
   "source": [
    "data = load_data()"
   ]
  },
  {
   "cell_type": "markdown",
   "metadata": {},
   "source": [
    "### Preprocessing"
   ]
  },
  {
   "cell_type": "code",
   "execution_count": 5,
   "metadata": {
    "ExecuteTime": {
     "end_time": "2021-01-19T01:11:09.438613Z",
     "start_time": "2021-01-19T01:11:08.175424Z"
    }
   },
   "outputs": [],
   "source": [
    "import re\n",
    "from nltk.corpus import stopwords  "
   ]
  },
  {
   "cell_type": "code",
   "execution_count": 6,
   "metadata": {
    "ExecuteTime": {
     "end_time": "2021-01-19T01:11:09.469565Z",
     "start_time": "2021-01-19T01:11:09.454978Z"
    }
   },
   "outputs": [],
   "source": [
    "#텍스트 전처리 함수 (str -> lst)\n",
    "def text_preprocessor(sent):\n",
    "    stop = stopwords.words('english')\n",
    "\n",
    "    # text preprocessing\n",
    "    sent_str = sent.lower()\n",
    "    sent_str = re.sub('[^a-z]', ' ', sent_str)  # Remove non-alphabetic strings\n",
    "    sent_str = re.sub('  ', ' ', sent_str).strip()  # Remove double white spaces\n",
    "    sent_lst = [word for word in sent_str.split() if word not in stop] # Remove stopwords\n",
    "    return sent_lst"
   ]
  },
  {
   "cell_type": "code",
   "execution_count": 7,
   "metadata": {
    "ExecuteTime": {
     "end_time": "2021-01-19T01:11:12.284705Z",
     "start_time": "2021-01-19T01:11:10.191826Z"
    }
   },
   "outputs": [],
   "source": [
    "data['X_lst'] = data['X'].map(text_preprocessor)"
   ]
  },
  {
   "cell_type": "markdown",
   "metadata": {},
   "source": [
    "### Data split"
   ]
  },
  {
   "cell_type": "code",
   "execution_count": 9,
   "metadata": {
    "ExecuteTime": {
     "end_time": "2021-01-19T01:11:17.194832Z",
     "start_time": "2021-01-19T01:11:17.175909Z"
    }
   },
   "outputs": [],
   "source": [
    "# 데이터 분리 함수 (df -> [df,df,df])\n",
    "def data_split(df):\n",
    "    train_df = df.sample(frac=0.8, random_state=123)\n",
    "    test_df = df.drop(train_df.index)\n",
    "\n",
    "    val_df = train_df.sample(frac=0.2, random_state=123)\n",
    "    train_df = train_df.drop(val_df.index)\n",
    "    \n",
    "    print(\"Train_df shape:\", train_df.shape)\n",
    "    print(\"Val_df shape:\", val_df.shape)\n",
    "    print(\"Test_df shape:\", test_df.shape)\n",
    "\n",
    "    return train_df, val_df, test_df"
   ]
  },
  {
   "cell_type": "code",
   "execution_count": 10,
   "metadata": {
    "ExecuteTime": {
     "end_time": "2021-01-19T01:11:18.026031Z",
     "start_time": "2021-01-19T01:11:18.000069Z"
    }
   },
   "outputs": [
    {
     "name": "stdout",
     "output_type": "stream",
     "text": [
      "Train_df shape: (6824, 4)\n",
      "Val_df shape: (1706, 4)\n",
      "Test_df shape: (2132, 4)\n"
     ]
    }
   ],
   "source": [
    "train_df, val_df, test_df = data_split(data)"
   ]
  },
  {
   "cell_type": "markdown",
   "metadata": {},
   "source": [
    "### Build Vocab"
   ]
  },
  {
   "cell_type": "code",
   "execution_count": 11,
   "metadata": {
    "ExecuteTime": {
     "end_time": "2021-01-19T01:11:21.865116Z",
     "start_time": "2021-01-19T01:11:21.855731Z"
    }
   },
   "outputs": [],
   "source": [
    "# Vocab 만들어주는 함수 ([df,df] -> [dict, dict])\n",
    "def buildVocab(train_df, val_df):\n",
    "    '''train과 valid 데이터만 사용 주의'''\n",
    "    trainWords_lst = [w for w_lst in train_df['X_lst'] for w in w_lst]\n",
    "    ValWords_lst = [w for w_lst in val_df['X_lst'] for w in w_lst]\n",
    "    totalWords_lst = trainWords_lst + ValWords_lst\n",
    "\n",
    "    words_lst = ['<pad>', '<unk>'] + sorted(list(set(totalWords_lst)))\n",
    "\n",
    "    itos = {idx : word for idx, word in enumerate(words_lst)}\n",
    "    stoi = {word : idx for idx, word in enumerate(words_lst)}\n",
    "\n",
    "    print('length of word_set:', len(words_lst))\n",
    "    return itos, stoi"
   ]
  },
  {
   "cell_type": "code",
   "execution_count": 12,
   "metadata": {
    "ExecuteTime": {
     "end_time": "2021-01-19T01:11:22.781820Z",
     "start_time": "2021-01-19T01:11:22.752181Z"
    }
   },
   "outputs": [
    {
     "name": "stdout",
     "output_type": "stream",
     "text": [
      "length of word_set: 16278\n"
     ]
    }
   ],
   "source": [
    "itos, stoi = buildVocab(train_df, val_df)"
   ]
  },
  {
   "cell_type": "markdown",
   "metadata": {},
   "source": [
    "### String to Index (Numericalization)"
   ]
  },
  {
   "cell_type": "code",
   "execution_count": 13,
   "metadata": {
    "ExecuteTime": {
     "end_time": "2021-01-19T01:11:24.530252Z",
     "start_time": "2021-01-19T01:11:24.520141Z"
    }
   },
   "outputs": [],
   "source": [
    "# 문장을 숫자로 표현해주는 함수 (lst -> lst)\n",
    "def token_to_idx(token_lst, stoi):\n",
    "    idx_lst = []\n",
    "    for w in token_lst:\n",
    "        if w in stoi:\n",
    "            idx = stoi[w]\n",
    "        else:\n",
    "            idx = stoi['<unk>']\n",
    "        idx_lst.append(idx)\n",
    "    return idx_lst"
   ]
  },
  {
   "cell_type": "code",
   "execution_count": 14,
   "metadata": {
    "ExecuteTime": {
     "end_time": "2021-01-19T01:11:24.873484Z",
     "start_time": "2021-01-19T01:11:24.839536Z"
    }
   },
   "outputs": [],
   "source": [
    "train_df['X_idx'] = train_df['X_lst'].map(lambda x: token_to_idx(x, stoi))\n",
    "val_df['X_idx'] = val_df['X_lst'].map(lambda x: token_to_idx(x, stoi))\n",
    "test_df['X_idx'] = test_df['X_lst'].map(lambda x: token_to_idx(x, stoi))"
   ]
  },
  {
   "cell_type": "markdown",
   "metadata": {},
   "source": [
    "### Padding"
   ]
  },
  {
   "cell_type": "code",
   "execution_count": 15,
   "metadata": {
    "ExecuteTime": {
     "end_time": "2021-01-19T01:11:27.885252Z",
     "start_time": "2021-01-19T01:11:27.880262Z"
    }
   },
   "outputs": [],
   "source": [
    "# zero padding을 통해서 시퀀스의 길이를 맞춰주는 함수 ([lst, int, dict] -> lst)\n",
    "def zero_padding(idx_lst, max_len, stoi):\n",
    "    pad_idx = stoi['<pad>']\n",
    "    unk_idx = stoi['<unk>']\n",
    "    \n",
    "    idx_lst = idx_lst[:max_len]\n",
    "    \n",
    "    if len(idx_lst) == max_len:\n",
    "        return idx_lst\n",
    "    else:\n",
    "        padding_len = max_len - len(idx_lst)\n",
    "        padding_list = [pad_idx] * padding_len\n",
    "        idx_lst = idx_lst + padding_list\n",
    "        return idx_lst"
   ]
  },
  {
   "cell_type": "code",
   "execution_count": 16,
   "metadata": {
    "ExecuteTime": {
     "end_time": "2021-01-19T01:11:28.154402Z",
     "start_time": "2021-01-19T01:11:28.136957Z"
    }
   },
   "outputs": [],
   "source": [
    "train_df['X_pad'] = train_df['X_idx'].map(lambda x: zero_padding(x, 10, stoi))\n",
    "val_df['X_pad'] = val_df['X_idx'].map(lambda x: zero_padding(x, 10, stoi))\n",
    "test_df['X_pad'] = test_df['X_idx'].map(lambda x: zero_padding(x, 10, stoi))"
   ]
  },
  {
   "cell_type": "markdown",
   "metadata": {},
   "source": [
    "### torch DataLoader"
   ]
  },
  {
   "cell_type": "code",
   "execution_count": 100,
   "metadata": {
    "ExecuteTime": {
     "end_time": "2021-01-19T01:44:48.504425Z",
     "start_time": "2021-01-19T01:44:48.494452Z"
    }
   },
   "outputs": [],
   "source": [
    "from torch.utils.data import Dataset\n",
    "\n",
    "class CustomDataset(Dataset):\n",
    "    def __init__(self, x, y):\n",
    "        self.x = x # np.array 말고 list로도 가능?\n",
    "        self.y = y\n",
    "    \n",
    "    def __len__(self):\n",
    "        return len(self.x)\n",
    "    \n",
    "    def __getitem__(self, idx):\n",
    "        input_x = torch.LongTensor(self.x[idx])\n",
    "        target_y = torch.FloatTensor([self.y[idx]]) # 왜 FloatTensor?,torch.FloatTensor([]) 이렇게 넣어줘야하는듯.\n",
    "        return input_x, target_y"
   ]
  },
  {
   "cell_type": "code",
   "execution_count": 101,
   "metadata": {
    "ExecuteTime": {
     "end_time": "2021-01-19T01:44:48.698287Z",
     "start_time": "2021-01-19T01:44:48.694271Z"
    }
   },
   "outputs": [],
   "source": [
    "# 기존 idx를 제거하기 위해서 list() 사용\n",
    "trainset = CustomDataset(list(train_df['X_pad']), list(train_df['y']))\n",
    "validset = CustomDataset(list(val_df['X_pad']), list(val_df['y']))\n",
    "testset = CustomDataset(list(test_df['X_pad']), list(test_df['y']))"
   ]
  },
  {
   "cell_type": "code",
   "execution_count": 102,
   "metadata": {
    "ExecuteTime": {
     "end_time": "2021-01-19T01:44:48.881276Z",
     "start_time": "2021-01-19T01:44:48.878260Z"
    }
   },
   "outputs": [],
   "source": [
    "from torch.utils.data import DataLoader\n",
    "\n",
    "batch_size = 64\n",
    "trainloader = DataLoader(trainset, batch_size=batch_size, shuffle=True, drop_last=False)\n",
    "validloader = DataLoader(validset, batch_size=batch_size, shuffle=True, drop_last=False)\n",
    "testloader = DataLoader(testset, batch_size=batch_size, shuffle=True, drop_last=False)"
   ]
  },
  {
   "cell_type": "markdown",
   "metadata": {},
   "source": [
    "## Build CNN model\n",
    "- In pytorch, CNN wants the batch dimension first!\n",
    "- in_channels: # of channels / out_channels: # of filters / kernel_size: filter size"
   ]
  },
  {
   "cell_type": "code",
   "execution_count": 84,
   "metadata": {
    "ExecuteTime": {
     "end_time": "2021-01-19T01:33:10.683315Z",
     "start_time": "2021-01-19T01:33:10.670350Z"
    }
   },
   "outputs": [],
   "source": [
    "device = torch.device('cuda' if torch.cuda.is_available() else 'cpu')"
   ]
  },
  {
   "cell_type": "code",
   "execution_count": 85,
   "metadata": {
    "ExecuteTime": {
     "end_time": "2021-01-19T01:33:11.043866Z",
     "start_time": "2021-01-19T01:33:11.038873Z"
    }
   },
   "outputs": [],
   "source": [
    "import torch.nn as nn\n",
    "import torch.nn.functional as F"
   ]
  },
  {
   "cell_type": "code",
   "execution_count": 167,
   "metadata": {
    "ExecuteTime": {
     "end_time": "2021-01-19T02:01:23.200158Z",
     "start_time": "2021-01-19T02:01:23.181211Z"
    }
   },
   "outputs": [],
   "source": [
    "class CNN(nn.Module):\n",
    "    def __init__(self, pretrained_embeddings, embedding_dim, n_filters, filter_sizes, output_dim, dropout, pad_idx):\n",
    "        super().__init__()\n",
    "        \n",
    "        self.embedding = nn.Embedding.from_pretrained(pretrained_embeddings, freeze= True, padding_idx= pad_idx)\n",
    "        \n",
    "        self.conv_0 = nn.Conv2d(in_channels = 1, \n",
    "                                out_channels = n_filters, \n",
    "                                kernel_size = (filter_sizes[0], embedding_dim))\n",
    "        \n",
    "        self.conv_1 = nn.Conv2d(in_channels = 1, \n",
    "                                out_channels = n_filters, \n",
    "                                kernel_size = (filter_sizes[1], embedding_dim))\n",
    "        \n",
    "        self.conv_2 = nn.Conv2d(in_channels = 1, \n",
    "                                out_channels = n_filters, \n",
    "                                kernel_size = (filter_sizes[2], embedding_dim))\n",
    "        \n",
    "        self.fc = nn.Linear(len(filter_sizes) * n_filters, output_dim) # Because of simply \"CONCATENATE\"!\n",
    "        \n",
    "        self.dropout = nn.Dropout(dropout)\n",
    "        \n",
    "    def forward(self, text):\n",
    "        # text = [batch_size, sent_len]\n",
    "        print(\"text:\", text.shape)\n",
    "        print(\"text:\", text.dtype)\n",
    "        embedded = self.embedding(text) \n",
    "        print(\"embedded after embedding:\", embedded.shape)\n",
    "        print(\"embedded after embedding:\", embedded.dtype)\n",
    "        # embedded = [batch_size, sent_len, embed_dim]\n",
    "        embedded = embedded.unsqueeze(1) # Insert 1 dimension to represent # of channels like images\n",
    "        print(\"embedded after unsqueeze:\", embedded.shape)\n",
    "        print(\"embedded after unsqueeze:\", embedded.dtype)\n",
    "        \n",
    "        test = self.conv_0(embedded)\n",
    "        \n",
    "        # embedded = [batch_size, 1, sent_len, embed_dim]\n",
    "        conved_0 = F.relu(self.conv_0(embedded).squeeze(3))\n",
    "        conved_1 = F.relu(self.conv_1(embedded).squeeze(3))\n",
    "        conved_2 = F.relu(self.conv_2(embedded).squeeze(3))\n",
    "        print(\"conved_0:\", conved_0.shape)\n",
    "        print(\"conved_0:\", conved_0.dtype)\n",
    "        \n",
    "        # conved_n = [batch size, n_filters, sent len - filter_sizes[n] + 1]\n",
    "        pooled_0 = F.max_pool1d(conved_0, conved_0.shape[2]).squeeze(2)\n",
    "        pooled_1 = F.max_pool1d(conved_1, conved_1.shape[2]).squeeze(2)\n",
    "        pooled_2 = F.max_pool1d(conved_2, conved_2.shape[2]).squeeze(2)\n",
    "        \n",
    "        # pooled_n = [batch_size, n_filters]\n",
    "        cat = self.dropout(torch.cat((pooled_0, pooled_1, pooled_2), dim=1))\n",
    "        \n",
    "        # cat = [batch_size, n_filters * len(filter_sizes)]\n",
    "        return self.fc(cat)"
   ]
  },
  {
   "cell_type": "code",
   "execution_count": 156,
   "metadata": {
    "ExecuteTime": {
     "end_time": "2021-01-19T02:01:00.544100Z",
     "start_time": "2021-01-19T02:01:00.525256Z"
    }
   },
   "outputs": [],
   "source": [
    "class CNN(nn.Module):\n",
    "    def __init__(self, pretrained_embeddings, embedding_dim, n_filters, filter_sizes, output_dim, dropout, pad_idx):\n",
    "        super().__init__()\n",
    "        \n",
    "        self.embedding = nn.Embedding.from_pretrained(pretrained_embeddings, freeze= True, padding_idx= pad_idx)\n",
    "        \n",
    "        # Note List comprehension\n",
    "        self.convs = nn.ModuleList([nn.Conv2d(in_channels= 1,  # 1 channel for TEXT\n",
    "                                              out_channels= n_filters,\n",
    "                                              kernel_size = (fs, embedding_dim))\n",
    "                                    for fs in filter_sizes])\n",
    "        \n",
    "        self.fc = nn.Linear(len(filter_sizes) * n_filters, output_dim) # Because of simply \"CONCATENATE\"!\n",
    "        \n",
    "        self.dropout = nn.Dropout(dropout)\n",
    "        \n",
    "    def forward(self, text):\n",
    "        # text = [batch_size, sent_len]\n",
    "        print(\"text:\", text.shape)\n",
    "        print(\"text:\", text.dtype)\n",
    "        embedded = self.embedding(text) \n",
    "        print(\"embedded after embedding:\", embedded.shape)\n",
    "        print(\"embedded after embedding:\", embedded.dtype)\n",
    "        # embedded = [batch_size, sent_len, embed_dim]\n",
    "        embedded = embedded.unsqueeze(1) # Insert 1 dimension to represent # of channels like images\n",
    "        print(\"embedded after unsqueeze:\", embedded.shape)\n",
    "        print(\"embedded after unsqueeze:\", embedded.dtype)\n",
    "        \n",
    "        # embedded = [batch_size, 1, sent_len, embed_dim]\n",
    "        conved = [F.relu(conv(embedded)).squeeze(3) for conv in self.convs]  # WHY does Squeeze need here?\n",
    "        print(\"conved:\", conved.shape)\n",
    "        print(\"conved:\", conved.dtype)\n",
    "        \n",
    "        # conved_n = [batch size, n_filters, sent len - filter_sizes[n] + 1]\n",
    "        pooled = [F.max_pool1d(conv, conv.shape[2]).squeeze(2) for conv in conved]\n",
    "        \n",
    "        # pooled_n = [batch_size, n_filters]\n",
    "        cat = self.dropout(torch.cat(pooled, dim=1))\n",
    "        \n",
    "        # cat = [batch_size, n_filters * len(filter_sizes)]\n",
    "        return self.fc(cat)"
   ]
  },
  {
   "cell_type": "code",
   "execution_count": 157,
   "metadata": {
    "ExecuteTime": {
     "end_time": "2021-01-19T02:01:00.716296Z",
     "start_time": "2021-01-19T02:01:00.700782Z"
    }
   },
   "outputs": [],
   "source": [
    "t = torch.FloatTensor([1,2,3])"
   ]
  },
  {
   "cell_type": "code",
   "execution_count": 158,
   "metadata": {
    "ExecuteTime": {
     "end_time": "2021-01-19T02:01:00.921685Z",
     "start_time": "2021-01-19T02:01:00.909688Z"
    }
   },
   "outputs": [
    {
     "data": {
      "text/plain": [
       "'torch.FloatTensor'"
      ]
     },
     "execution_count": 158,
     "metadata": {},
     "output_type": "execute_result"
    }
   ],
   "source": [
    "t.type()"
   ]
  },
  {
   "cell_type": "markdown",
   "metadata": {},
   "source": [
    "### Load pre-trained embedding\n",
    "- Load the pretrain Word2Vec model from Google [(Download HERE)](https://drive.google.com/file/d/0B7XkCwpI5KDYNlNUTTlSS21pQmM/edit) \n",
    "- It might take time since it  contains 300-dimensional vectors for 3 million words and phrases"
   ]
  },
  {
   "cell_type": "code",
   "execution_count": 107,
   "metadata": {
    "ExecuteTime": {
     "end_time": "2021-01-19T01:46:37.553542Z",
     "start_time": "2021-01-19T01:46:37.549530Z"
    }
   },
   "outputs": [],
   "source": [
    "from gensim.models.keyedvectors import KeyedVectors"
   ]
  },
  {
   "cell_type": "code",
   "execution_count": 108,
   "metadata": {
    "ExecuteTime": {
     "end_time": "2021-01-19T01:46:51.472582Z",
     "start_time": "2021-01-19T01:46:37.774092Z"
    }
   },
   "outputs": [],
   "source": [
    "# Load pretrained_embeddings\n",
    "path = r\"C:\\Users\\Simon\\ongoing_projects\\SSRC_collaboration\\source\\GoogleNews-vectors-negative300.bin\"\n",
    "word_vectors = KeyedVectors.load_word2vec_format(path, binary=True)\n",
    "\n",
    "# Customize pretrained_embeddings \n",
    "pretrained_embeddings = np.zeros((len(stoi), 300)) # <pad>, <unk>은 여기서는 제외시켜야 하나??\n",
    "\n",
    "# unk_lst = []\n",
    "for i, w in enumerate(list(stoi.keys())):\n",
    "    try:\n",
    "        tmp_vec = word_vectors[w]\n",
    "        pretrained_embeddings[i] = tmp_vec\n",
    "    except KeyError:\n",
    "        pass\n",
    "#         unk_lst.append(i)"
   ]
  },
  {
   "cell_type": "code",
   "execution_count": 109,
   "metadata": {
    "ExecuteTime": {
     "end_time": "2021-01-19T01:46:51.533832Z",
     "start_time": "2021-01-19T01:46:51.519719Z"
    }
   },
   "outputs": [],
   "source": [
    "# unk_lst.remove(0) # <pad>\n",
    "# unk_lst.remove(1) # <unk>\n",
    "# pretrained_embeddings = np.delete(pretrained_embeddings, unk_lst, axis=0) # <unk>이 있기때문에 없는 단어들 제거????"
   ]
  },
  {
   "cell_type": "code",
   "execution_count": 127,
   "metadata": {
    "ExecuteTime": {
     "end_time": "2021-01-19T01:55:06.830699Z",
     "start_time": "2021-01-19T01:55:06.813060Z"
    }
   },
   "outputs": [],
   "source": [
    "# config\n",
    "# INPUT_DIM = len(stoi)\n",
    "PRETRAINED_EMB = torch.from_numpy(pretrained_embeddings) # torch.tensor로 전환 주의\n",
    "EMBEDDING_DIM = 300\n",
    "N_FILTERS = 100\n",
    "FILTER_SIZES = [3,4,5]\n",
    "OUTPUT_DIM = 1\n",
    "DROPOUT = 0.5\n",
    "PAD_IDX = stoi['<pad>']"
   ]
  },
  {
   "cell_type": "code",
   "execution_count": 168,
   "metadata": {
    "ExecuteTime": {
     "end_time": "2021-01-19T02:01:28.017229Z",
     "start_time": "2021-01-19T02:01:28.013205Z"
    }
   },
   "outputs": [],
   "source": [
    "model = CNN(PRETRAINED_EMB, EMBEDDING_DIM, N_FILTERS, FILTER_SIZES, OUTPUT_DIM, DROPOUT, PAD_IDX)"
   ]
  },
  {
   "cell_type": "code",
   "execution_count": 169,
   "metadata": {
    "ExecuteTime": {
     "end_time": "2021-01-19T02:01:28.221313Z",
     "start_time": "2021-01-19T02:01:28.212334Z"
    }
   },
   "outputs": [
    {
     "name": "stdout",
     "output_type": "stream",
     "text": [
      "The model has 360,601 trainable parameters\n"
     ]
    }
   ],
   "source": [
    "def count_parameters(model):\n",
    "    return sum(p.numel() for p in model.parameters() if p.requires_grad)\n",
    "\n",
    "print(f'The model has {count_parameters(model):,} trainable parameters')"
   ]
  },
  {
   "cell_type": "markdown",
   "metadata": {},
   "source": [
    "## Train the model"
   ]
  },
  {
   "cell_type": "code",
   "execution_count": 170,
   "metadata": {
    "ExecuteTime": {
     "end_time": "2021-01-19T02:01:28.633759Z",
     "start_time": "2021-01-19T02:01:28.619773Z"
    }
   },
   "outputs": [],
   "source": [
    "import torch.optim as optim\n",
    "\n",
    "optimizer = optim.Adam(model.parameters())\n",
    "criterion = nn.BCEWithLogitsLoss()\n",
    "\n",
    "model = model.to(device)\n",
    "criterion = criterion.to(device)"
   ]
  },
  {
   "cell_type": "code",
   "execution_count": 171,
   "metadata": {
    "ExecuteTime": {
     "end_time": "2021-01-19T02:01:28.791765Z",
     "start_time": "2021-01-19T02:01:28.780795Z"
    }
   },
   "outputs": [],
   "source": [
    "def binary_accuracy(preds, y):\n",
    "    \"\"\"\n",
    "    Returns accuracy per batch, i.e. if you get 8/10 right, this returns 0.8, NOT 8\n",
    "    \"\"\"\n",
    "\n",
    "    #round predictions to the closest integer\n",
    "    rounded_preds = torch.round(torch.sigmoid(preds))\n",
    "    correct = (rounded_preds == y).float() #convert into float for division \n",
    "    acc = correct.sum() / len(correct)\n",
    "    return acc"
   ]
  },
  {
   "cell_type": "code",
   "execution_count": 172,
   "metadata": {
    "ExecuteTime": {
     "end_time": "2021-01-19T02:01:28.995721Z",
     "start_time": "2021-01-19T02:01:28.979764Z"
    }
   },
   "outputs": [],
   "source": [
    "def train(model, iterator, optimizer, criterion):\n",
    "    \n",
    "    epoch_loss = 0\n",
    "    epoch_acc = 0\n",
    "    \n",
    "    model.train()\n",
    "    \n",
    "    for x, y in iterator:\n",
    "        x = x.to('cuda')\n",
    "        y = y.to('cuda')\n",
    "        \n",
    "        optimizer.zero_grad()\n",
    "        \n",
    "        predictions = model(x).squeeze(1)\n",
    "        loss = criterion(predictions, y)\n",
    "        acc = binary_accuracy(predictions, y)\n",
    "        \n",
    "        loss.backward()\n",
    "        optimizer.step()\n",
    "        \n",
    "        epoch_loss += loss.item()\n",
    "        epoch_acc += acc.item()\n",
    "        \n",
    "    return epoch_loss / len(iterator), epoch_acc / len(iterator)"
   ]
  },
  {
   "cell_type": "code",
   "execution_count": 173,
   "metadata": {
    "ExecuteTime": {
     "end_time": "2021-01-19T02:01:29.199200Z",
     "start_time": "2021-01-19T02:01:29.180319Z"
    }
   },
   "outputs": [],
   "source": [
    "def evaluate(model, iterator, criterion):\n",
    "    \n",
    "    epoch_loss = 0\n",
    "    epoch_acc = 0\n",
    "    \n",
    "    model.eval()\n",
    "    \n",
    "    with torch.no_grad():\n",
    "        for x, y in iterator:\n",
    "            x = x.to('cuda')\n",
    "            y = y.to('cuda')\n",
    "            \n",
    "            predictions = model(x).squeeze(1)\n",
    "            loss = criterion(predictions, y)\n",
    "            acc = binary_accuracy(predictions, y)\n",
    "\n",
    "            epoch_loss += loss.item()\n",
    "            epoch_acc += acc.item()\n",
    "        \n",
    "    return epoch_loss / len(iterator), epoch_acc / len(iterator)"
   ]
  },
  {
   "cell_type": "code",
   "execution_count": 174,
   "metadata": {
    "ExecuteTime": {
     "end_time": "2021-01-19T02:01:29.492330Z",
     "start_time": "2021-01-19T02:01:29.484356Z"
    }
   },
   "outputs": [],
   "source": [
    "import time\n",
    "\n",
    "def epoch_time(start_time, end_time):\n",
    "    elapsed_time = end_time - start_time\n",
    "    elapsed_mins = int(elapsed_time / 60)\n",
    "    elapsed_secs = int(elapsed_time - (elapsed_mins * 60))\n",
    "    return elapsed_mins, elapsed_secs"
   ]
  },
  {
   "cell_type": "code",
   "execution_count": 175,
   "metadata": {
    "ExecuteTime": {
     "end_time": "2021-01-19T02:01:29.774564Z",
     "start_time": "2021-01-19T02:01:29.749602Z"
    }
   },
   "outputs": [
    {
     "name": "stdout",
     "output_type": "stream",
     "text": [
      "text: torch.Size([64, 10])\n",
      "text: torch.int64\n",
      "embedded after embedding: torch.Size([64, 10, 300])\n",
      "embedded after embedding: torch.float64\n",
      "embedded after unsqueeze: torch.Size([64, 1, 10, 300])\n",
      "embedded after unsqueeze: torch.float64\n"
     ]
    },
    {
     "ename": "RuntimeError",
     "evalue": "Input type (torch.cuda.DoubleTensor) and weight type (torch.cuda.FloatTensor) should be the same",
     "output_type": "error",
     "traceback": [
      "\u001b[1;31m---------------------------------------------------------------------------\u001b[0m",
      "\u001b[1;31mRuntimeError\u001b[0m                              Traceback (most recent call last)",
      "\u001b[1;32m<ipython-input-175-d6c6cd6eb8f1>\u001b[0m in \u001b[0;36m<module>\u001b[1;34m\u001b[0m\n\u001b[0;32m      7\u001b[0m     \u001b[0mstart_time\u001b[0m \u001b[1;33m=\u001b[0m \u001b[0mtime\u001b[0m\u001b[1;33m.\u001b[0m\u001b[0mtime\u001b[0m\u001b[1;33m(\u001b[0m\u001b[1;33m)\u001b[0m\u001b[1;33m\u001b[0m\u001b[1;33m\u001b[0m\u001b[0m\n\u001b[0;32m      8\u001b[0m \u001b[1;33m\u001b[0m\u001b[0m\n\u001b[1;32m----> 9\u001b[1;33m     \u001b[0mtrain_loss\u001b[0m\u001b[1;33m,\u001b[0m \u001b[0mtrain_acc\u001b[0m \u001b[1;33m=\u001b[0m \u001b[0mtrain\u001b[0m\u001b[1;33m(\u001b[0m\u001b[0mmodel\u001b[0m\u001b[1;33m,\u001b[0m \u001b[0mtrainloader\u001b[0m\u001b[1;33m,\u001b[0m \u001b[0moptimizer\u001b[0m\u001b[1;33m,\u001b[0m \u001b[0mcriterion\u001b[0m\u001b[1;33m)\u001b[0m\u001b[1;33m\u001b[0m\u001b[1;33m\u001b[0m\u001b[0m\n\u001b[0m\u001b[0;32m     10\u001b[0m     \u001b[0mvalid_loss\u001b[0m\u001b[1;33m,\u001b[0m \u001b[0mvalid_acc\u001b[0m \u001b[1;33m=\u001b[0m \u001b[0mevaluate\u001b[0m\u001b[1;33m(\u001b[0m\u001b[0mmodel\u001b[0m\u001b[1;33m,\u001b[0m \u001b[0mvalidloader\u001b[0m\u001b[1;33m,\u001b[0m \u001b[0mcriterion\u001b[0m\u001b[1;33m)\u001b[0m\u001b[1;33m\u001b[0m\u001b[1;33m\u001b[0m\u001b[0m\n\u001b[0;32m     11\u001b[0m \u001b[1;33m\u001b[0m\u001b[0m\n",
      "\u001b[1;32m<ipython-input-172-8baeb224faa2>\u001b[0m in \u001b[0;36mtrain\u001b[1;34m(model, iterator, optimizer, criterion)\u001b[0m\n\u001b[0;32m     12\u001b[0m         \u001b[0moptimizer\u001b[0m\u001b[1;33m.\u001b[0m\u001b[0mzero_grad\u001b[0m\u001b[1;33m(\u001b[0m\u001b[1;33m)\u001b[0m\u001b[1;33m\u001b[0m\u001b[1;33m\u001b[0m\u001b[0m\n\u001b[0;32m     13\u001b[0m \u001b[1;33m\u001b[0m\u001b[0m\n\u001b[1;32m---> 14\u001b[1;33m         \u001b[0mpredictions\u001b[0m \u001b[1;33m=\u001b[0m \u001b[0mmodel\u001b[0m\u001b[1;33m(\u001b[0m\u001b[0mx\u001b[0m\u001b[1;33m)\u001b[0m\u001b[1;33m.\u001b[0m\u001b[0msqueeze\u001b[0m\u001b[1;33m(\u001b[0m\u001b[1;36m1\u001b[0m\u001b[1;33m)\u001b[0m\u001b[1;33m\u001b[0m\u001b[1;33m\u001b[0m\u001b[0m\n\u001b[0m\u001b[0;32m     15\u001b[0m         \u001b[0mloss\u001b[0m \u001b[1;33m=\u001b[0m \u001b[0mcriterion\u001b[0m\u001b[1;33m(\u001b[0m\u001b[0mpredictions\u001b[0m\u001b[1;33m,\u001b[0m \u001b[0my\u001b[0m\u001b[1;33m)\u001b[0m\u001b[1;33m\u001b[0m\u001b[1;33m\u001b[0m\u001b[0m\n\u001b[0;32m     16\u001b[0m         \u001b[0macc\u001b[0m \u001b[1;33m=\u001b[0m \u001b[0mbinary_accuracy\u001b[0m\u001b[1;33m(\u001b[0m\u001b[0mpredictions\u001b[0m\u001b[1;33m,\u001b[0m \u001b[0my\u001b[0m\u001b[1;33m)\u001b[0m\u001b[1;33m\u001b[0m\u001b[1;33m\u001b[0m\u001b[0m\n",
      "\u001b[1;32m~\\anaconda3\\envs\\torch\\lib\\site-packages\\torch\\nn\\modules\\module.py\u001b[0m in \u001b[0;36m_call_impl\u001b[1;34m(self, *input, **kwargs)\u001b[0m\n\u001b[0;32m    720\u001b[0m             \u001b[0mresult\u001b[0m \u001b[1;33m=\u001b[0m \u001b[0mself\u001b[0m\u001b[1;33m.\u001b[0m\u001b[0m_slow_forward\u001b[0m\u001b[1;33m(\u001b[0m\u001b[1;33m*\u001b[0m\u001b[0minput\u001b[0m\u001b[1;33m,\u001b[0m \u001b[1;33m**\u001b[0m\u001b[0mkwargs\u001b[0m\u001b[1;33m)\u001b[0m\u001b[1;33m\u001b[0m\u001b[1;33m\u001b[0m\u001b[0m\n\u001b[0;32m    721\u001b[0m         \u001b[1;32melse\u001b[0m\u001b[1;33m:\u001b[0m\u001b[1;33m\u001b[0m\u001b[1;33m\u001b[0m\u001b[0m\n\u001b[1;32m--> 722\u001b[1;33m             \u001b[0mresult\u001b[0m \u001b[1;33m=\u001b[0m \u001b[0mself\u001b[0m\u001b[1;33m.\u001b[0m\u001b[0mforward\u001b[0m\u001b[1;33m(\u001b[0m\u001b[1;33m*\u001b[0m\u001b[0minput\u001b[0m\u001b[1;33m,\u001b[0m \u001b[1;33m**\u001b[0m\u001b[0mkwargs\u001b[0m\u001b[1;33m)\u001b[0m\u001b[1;33m\u001b[0m\u001b[1;33m\u001b[0m\u001b[0m\n\u001b[0m\u001b[0;32m    723\u001b[0m         for hook in itertools.chain(\n\u001b[0;32m    724\u001b[0m                 \u001b[0m_global_forward_hooks\u001b[0m\u001b[1;33m.\u001b[0m\u001b[0mvalues\u001b[0m\u001b[1;33m(\u001b[0m\u001b[1;33m)\u001b[0m\u001b[1;33m,\u001b[0m\u001b[1;33m\u001b[0m\u001b[1;33m\u001b[0m\u001b[0m\n",
      "\u001b[1;32m<ipython-input-167-8612c388c5f1>\u001b[0m in \u001b[0;36mforward\u001b[1;34m(self, text)\u001b[0m\n\u001b[0;32m     33\u001b[0m         \u001b[0mprint\u001b[0m\u001b[1;33m(\u001b[0m\u001b[1;34m\"embedded after unsqueeze:\"\u001b[0m\u001b[1;33m,\u001b[0m \u001b[0membedded\u001b[0m\u001b[1;33m.\u001b[0m\u001b[0mdtype\u001b[0m\u001b[1;33m)\u001b[0m\u001b[1;33m\u001b[0m\u001b[1;33m\u001b[0m\u001b[0m\n\u001b[0;32m     34\u001b[0m \u001b[1;33m\u001b[0m\u001b[0m\n\u001b[1;32m---> 35\u001b[1;33m         \u001b[0mtest\u001b[0m \u001b[1;33m=\u001b[0m \u001b[0mself\u001b[0m\u001b[1;33m.\u001b[0m\u001b[0mconv_0\u001b[0m\u001b[1;33m(\u001b[0m\u001b[0membedded\u001b[0m\u001b[1;33m)\u001b[0m\u001b[1;33m\u001b[0m\u001b[1;33m\u001b[0m\u001b[0m\n\u001b[0m\u001b[0;32m     36\u001b[0m \u001b[1;33m\u001b[0m\u001b[0m\n\u001b[0;32m     37\u001b[0m         \u001b[1;31m# embedded = [batch_size, 1, sent_len, embed_dim]\u001b[0m\u001b[1;33m\u001b[0m\u001b[1;33m\u001b[0m\u001b[1;33m\u001b[0m\u001b[0m\n",
      "\u001b[1;32m~\\anaconda3\\envs\\torch\\lib\\site-packages\\torch\\nn\\modules\\module.py\u001b[0m in \u001b[0;36m_call_impl\u001b[1;34m(self, *input, **kwargs)\u001b[0m\n\u001b[0;32m    720\u001b[0m             \u001b[0mresult\u001b[0m \u001b[1;33m=\u001b[0m \u001b[0mself\u001b[0m\u001b[1;33m.\u001b[0m\u001b[0m_slow_forward\u001b[0m\u001b[1;33m(\u001b[0m\u001b[1;33m*\u001b[0m\u001b[0minput\u001b[0m\u001b[1;33m,\u001b[0m \u001b[1;33m**\u001b[0m\u001b[0mkwargs\u001b[0m\u001b[1;33m)\u001b[0m\u001b[1;33m\u001b[0m\u001b[1;33m\u001b[0m\u001b[0m\n\u001b[0;32m    721\u001b[0m         \u001b[1;32melse\u001b[0m\u001b[1;33m:\u001b[0m\u001b[1;33m\u001b[0m\u001b[1;33m\u001b[0m\u001b[0m\n\u001b[1;32m--> 722\u001b[1;33m             \u001b[0mresult\u001b[0m \u001b[1;33m=\u001b[0m \u001b[0mself\u001b[0m\u001b[1;33m.\u001b[0m\u001b[0mforward\u001b[0m\u001b[1;33m(\u001b[0m\u001b[1;33m*\u001b[0m\u001b[0minput\u001b[0m\u001b[1;33m,\u001b[0m \u001b[1;33m**\u001b[0m\u001b[0mkwargs\u001b[0m\u001b[1;33m)\u001b[0m\u001b[1;33m\u001b[0m\u001b[1;33m\u001b[0m\u001b[0m\n\u001b[0m\u001b[0;32m    723\u001b[0m         for hook in itertools.chain(\n\u001b[0;32m    724\u001b[0m                 \u001b[0m_global_forward_hooks\u001b[0m\u001b[1;33m.\u001b[0m\u001b[0mvalues\u001b[0m\u001b[1;33m(\u001b[0m\u001b[1;33m)\u001b[0m\u001b[1;33m,\u001b[0m\u001b[1;33m\u001b[0m\u001b[1;33m\u001b[0m\u001b[0m\n",
      "\u001b[1;32m~\\anaconda3\\envs\\torch\\lib\\site-packages\\torch\\nn\\modules\\conv.py\u001b[0m in \u001b[0;36mforward\u001b[1;34m(self, input)\u001b[0m\n\u001b[0;32m    417\u001b[0m \u001b[1;33m\u001b[0m\u001b[0m\n\u001b[0;32m    418\u001b[0m     \u001b[1;32mdef\u001b[0m \u001b[0mforward\u001b[0m\u001b[1;33m(\u001b[0m\u001b[0mself\u001b[0m\u001b[1;33m,\u001b[0m \u001b[0minput\u001b[0m\u001b[1;33m:\u001b[0m \u001b[0mTensor\u001b[0m\u001b[1;33m)\u001b[0m \u001b[1;33m->\u001b[0m \u001b[0mTensor\u001b[0m\u001b[1;33m:\u001b[0m\u001b[1;33m\u001b[0m\u001b[1;33m\u001b[0m\u001b[0m\n\u001b[1;32m--> 419\u001b[1;33m         \u001b[1;32mreturn\u001b[0m \u001b[0mself\u001b[0m\u001b[1;33m.\u001b[0m\u001b[0m_conv_forward\u001b[0m\u001b[1;33m(\u001b[0m\u001b[0minput\u001b[0m\u001b[1;33m,\u001b[0m \u001b[0mself\u001b[0m\u001b[1;33m.\u001b[0m\u001b[0mweight\u001b[0m\u001b[1;33m)\u001b[0m\u001b[1;33m\u001b[0m\u001b[1;33m\u001b[0m\u001b[0m\n\u001b[0m\u001b[0;32m    420\u001b[0m \u001b[1;33m\u001b[0m\u001b[0m\n\u001b[0;32m    421\u001b[0m \u001b[1;32mclass\u001b[0m \u001b[0mConv3d\u001b[0m\u001b[1;33m(\u001b[0m\u001b[0m_ConvNd\u001b[0m\u001b[1;33m)\u001b[0m\u001b[1;33m:\u001b[0m\u001b[1;33m\u001b[0m\u001b[1;33m\u001b[0m\u001b[0m\n",
      "\u001b[1;32m~\\anaconda3\\envs\\torch\\lib\\site-packages\\torch\\nn\\modules\\conv.py\u001b[0m in \u001b[0;36m_conv_forward\u001b[1;34m(self, input, weight)\u001b[0m\n\u001b[0;32m    414\u001b[0m                             _pair(0), self.dilation, self.groups)\n\u001b[0;32m    415\u001b[0m         return F.conv2d(input, weight, self.bias, self.stride,\n\u001b[1;32m--> 416\u001b[1;33m                         self.padding, self.dilation, self.groups)\n\u001b[0m\u001b[0;32m    417\u001b[0m \u001b[1;33m\u001b[0m\u001b[0m\n\u001b[0;32m    418\u001b[0m     \u001b[1;32mdef\u001b[0m \u001b[0mforward\u001b[0m\u001b[1;33m(\u001b[0m\u001b[0mself\u001b[0m\u001b[1;33m,\u001b[0m \u001b[0minput\u001b[0m\u001b[1;33m:\u001b[0m \u001b[0mTensor\u001b[0m\u001b[1;33m)\u001b[0m \u001b[1;33m->\u001b[0m \u001b[0mTensor\u001b[0m\u001b[1;33m:\u001b[0m\u001b[1;33m\u001b[0m\u001b[1;33m\u001b[0m\u001b[0m\n",
      "\u001b[1;31mRuntimeError\u001b[0m: Input type (torch.cuda.DoubleTensor) and weight type (torch.cuda.FloatTensor) should be the same"
     ]
    }
   ],
   "source": [
    "N_EPOCHS = 5\n",
    "\n",
    "best_valid_loss = float('inf')\n",
    "\n",
    "for epoch in range(N_EPOCHS):\n",
    "\n",
    "    start_time = time.time()\n",
    "    \n",
    "    train_loss, train_acc = train(model, trainloader, optimizer, criterion)\n",
    "    valid_loss, valid_acc = evaluate(model, validloader, criterion)\n",
    "    \n",
    "    end_time = time.time()\n",
    "\n",
    "    epoch_mins, epoch_secs = epoch_time(start_time, end_time)\n",
    "    \n",
    "    if valid_loss < best_valid_loss:\n",
    "        best_valid_loss = valid_loss\n",
    "        torch.save(model.state_dict(), 'tut4-model.pt')\n",
    "    \n",
    "    print(f'Epoch: {epoch+1:02} | Epoch Time: {epoch_mins}m {epoch_secs}s')\n",
    "    print(f'\\tTrain Loss: {train_loss:.3f} | Train Acc: {train_acc*100:.2f}%')\n",
    "    print(f'\\t Val. Loss: {valid_loss:.3f} |  Val. Acc: {valid_acc*100:.2f}%')"
   ]
  },
  {
   "cell_type": "code",
   "execution_count": null,
   "metadata": {},
   "outputs": [],
   "source": []
  }
 ],
 "metadata": {
  "kernelspec": {
   "display_name": "Python 3",
   "language": "python",
   "name": "python3"
  },
  "language_info": {
   "codemirror_mode": {
    "name": "ipython",
    "version": 3
   },
   "file_extension": ".py",
   "mimetype": "text/x-python",
   "name": "python",
   "nbconvert_exporter": "python",
   "pygments_lexer": "ipython3",
   "version": "3.7.9"
  },
  "toc": {
   "base_numbering": 1,
   "nav_menu": {},
   "number_sections": false,
   "sideBar": true,
   "skip_h1_title": false,
   "title_cell": "Table of Contents",
   "title_sidebar": "Contents",
   "toc_cell": false,
   "toc_position": {
    "height": "calc(100% - 180px)",
    "left": "10px",
    "top": "150px",
    "width": "165px"
   },
   "toc_section_display": true,
   "toc_window_display": true
  },
  "varInspector": {
   "cols": {
    "lenName": 16,
    "lenType": 16,
    "lenVar": 40
   },
   "kernels_config": {
    "python": {
     "delete_cmd_postfix": "",
     "delete_cmd_prefix": "del ",
     "library": "var_list.py",
     "varRefreshCmd": "print(var_dic_list())"
    },
    "r": {
     "delete_cmd_postfix": ") ",
     "delete_cmd_prefix": "rm(",
     "library": "var_list.r",
     "varRefreshCmd": "cat(var_dic_list()) "
    }
   },
   "oldHeight": 122.667,
   "position": {
    "height": "196.667px",
    "left": "921px",
    "right": "20px",
    "top": "85px",
    "width": "350px"
   },
   "types_to_exclude": [
    "module",
    "function",
    "builtin_function_or_method",
    "instance",
    "_Feature"
   ],
   "varInspector_section_display": "block",
   "window_display": false
  }
 },
 "nbformat": 4,
 "nbformat_minor": 4
}
